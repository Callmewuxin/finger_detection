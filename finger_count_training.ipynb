{
 "cells": [
  {
   "cell_type": "code",
   "execution_count": 9,
   "metadata": {},
   "outputs": [],
   "source": [
    "import numpy as np\n",
    "import pandas as pd\n",
    "import tensorflow as tf\n",
    "import cv2\n",
    "import os, glob\n",
    "\n",
    "from keras.models import Sequential\n",
    "from keras.layers import Dense, Conv2D, MaxPool2D, Dropout, Flatten"
   ]
  },
  {
   "cell_type": "code",
   "execution_count": 10,
   "metadata": {},
   "outputs": [
    {
     "name": "stdout",
     "output_type": "stream",
     "text": [
      "18000\n",
      "3600\n"
     ]
    }
   ],
   "source": [
    "train_img_list = glob.glob(\"fingers/train/*.png\")\n",
    "test_img_list = glob.glob(\"fingers/test/*.png\")\n",
    "print(len(train_img_list),\n",
    "     len(test_img_list), sep = '\\n')"
   ]
  },
  {
   "cell_type": "code",
   "execution_count": 34,
   "metadata": {},
   "outputs": [],
   "source": [
    "def import_data():\n",
    "    train_img_data = []\n",
    "    test_img_data = []\n",
    "    train_label_data = []\n",
    "    test_label_data = []\n",
    "    \n",
    "    for img in train_img_list:\n",
    "        img_read = cv2.imread(img, cv2.IMREAD_GRAYSCALE)\n",
    "        img_read = cv2.resize(img_read, (128,128))\n",
    "        train_img_data.append(img_read)\n",
    "        train_label_data.append(int(img[-6]))\n",
    "    \n",
    "    for img in test_img_list:\n",
    "        img_read = cv2.imread(img, cv2.IMREAD_GRAYSCALE)\n",
    "        img_read = cv2.resize(img_read, (128,128))\n",
    "        test_img_data.append(img_read)\n",
    "        test_label_data.append(int(img[-6]))\n",
    "        \n",
    "    return np.array(train_img_data), np.array(test_img_data), np.array(train_label_data), np.array(test_label_data)"
   ]
  },
  {
   "cell_type": "code",
   "execution_count": 35,
   "metadata": {},
   "outputs": [],
   "source": [
    "xtrain, xtest, ytrain, ytest = import_data()"
   ]
  },
  {
   "cell_type": "code",
   "execution_count": 36,
   "metadata": {},
   "outputs": [
    {
     "data": {
      "text/plain": [
       "(18000,)"
      ]
     },
     "execution_count": 36,
     "metadata": {},
     "output_type": "execute_result"
    }
   ],
   "source": [
    "ytrain.shape"
   ]
  },
  {
   "cell_type": "code",
   "execution_count": 37,
   "metadata": {},
   "outputs": [
    {
     "name": "stdout",
     "output_type": "stream",
     "text": [
      "(18000, 128, 128, 1) (3600, 128, 128, 1) (18000, 6) (3600, 6)\n"
     ]
    }
   ],
   "source": [
    "from keras.utils import to_categorical \n",
    "xtrain = xtrain.reshape(xtrain.shape[0], 128, 128, 1)\n",
    "xtest = xtest.reshape(xtest.shape[0], 128, 128, 1)\n",
    "\n",
    "ytrain = to_categorical(ytrain, 6)\n",
    "ytest = to_categorical(ytest, 6)\n",
    "print(xtrain.shape, xtest.shape, ytrain.shape, ytest.shape)"
   ]
  },
  {
   "cell_type": "code",
   "execution_count": 38,
   "metadata": {},
   "outputs": [
    {
     "name": "stdout",
     "output_type": "stream",
     "text": [
      "_________________________________________________________________\n",
      "Layer (type)                 Output Shape              Param #   \n",
      "=================================================================\n",
      "conv2d_1 (Conv2D)            (None, 126, 126, 32)      320       \n",
      "_________________________________________________________________\n",
      "conv2d_2 (Conv2D)            (None, 124, 124, 32)      9248      \n",
      "_________________________________________________________________\n",
      "conv2d_3 (Conv2D)            (None, 122, 122, 64)      18496     \n",
      "_________________________________________________________________\n",
      "conv2d_4 (Conv2D)            (None, 120, 120, 64)      36928     \n",
      "_________________________________________________________________\n",
      "max_pooling2d_1 (MaxPooling2 (None, 60, 60, 64)        0         \n",
      "_________________________________________________________________\n",
      "conv2d_5 (Conv2D)            (None, 58, 58, 128)       73856     \n",
      "_________________________________________________________________\n",
      "conv2d_6 (Conv2D)            (None, 56, 56, 128)       147584    \n",
      "_________________________________________________________________\n",
      "flatten_1 (Flatten)          (None, 401408)            0         \n",
      "_________________________________________________________________\n",
      "dropout_1 (Dropout)          (None, 401408)            0         \n",
      "_________________________________________________________________\n",
      "dense_1 (Dense)              (None, 256)               102760704 \n",
      "_________________________________________________________________\n",
      "dropout_2 (Dropout)          (None, 256)               0         \n",
      "_________________________________________________________________\n",
      "dense_2 (Dense)              (None, 6)                 1542      \n",
      "=================================================================\n",
      "Total params: 103,048,678\n",
      "Trainable params: 103,048,678\n",
      "Non-trainable params: 0\n",
      "_________________________________________________________________\n"
     ]
    }
   ],
   "source": [
    "model = Sequential()\n",
    "model.add(Conv2D(32, (3,3), input_shape = (128, 128, 1), activation = 'relu'))\n",
    "model.add(Conv2D(32, (3,3), activation = 'relu'))\n",
    "\n",
    "model.add(Conv2D(64, (3,3), activation = 'relu'))\n",
    "model.add(Conv2D(64, (3,3), activation = 'relu'))\n",
    "\n",
    "model.add(MaxPool2D((2,2)))\n",
    "\n",
    "model.add(Conv2D(128, (3,3), activation = 'relu'))\n",
    "model.add(Conv2D(128, (3,3), activation = 'relu'))\n",
    "\n",
    "model.add(Flatten())\n",
    "\n",
    "model.add(Dropout(0.40))\n",
    "model.add(Dense(256, activation = 'relu'))\n",
    "model.add(Dropout(0.40))\n",
    "model.add(Dense(6, activation = 'softmax'))\n",
    "\n",
    "model.summary()"
   ]
  },
  {
   "cell_type": "code",
   "execution_count": null,
   "metadata": {},
   "outputs": [
    {
     "name": "stdout",
     "output_type": "stream",
     "text": [
      "Train on 18000 samples, validate on 3600 samples\n",
      "Epoch 1/10\n"
     ]
    }
   ],
   "source": [
    "model.compile('adam', loss = 'categorical_crossentropy', metrics = ['accuracy'])\n",
    "history = model.fit(x = xtrain, y = ytrain, batch_size = 128, epochs = 10, validation_data = (xtest, ytest))"
   ]
  },
  {
   "cell_type": "code",
   "execution_count": null,
   "metadata": {},
   "outputs": [],
   "source": [
    "import matplotlib.pyplot as plt\n",
    "fig,ax = plt.subplots(2,1,figsize=(10,10))\n",
    "ax[0].plot(history.history['loss'], color='r', label='Training Loss')\n",
    "ax[0].plot(history.history['val_loss'], color='g', label='Validation Loss')\n",
    "ax[0].legend(loc='best',shadow=True)\n",
    "ax[0].grid(True)\n",
    "\n",
    "ax[1].plot(history.history['acc'], color='r', label='Training Accuracy')\n",
    "ax[1].plot(history.history['val_acc'], color='g', label='Validation Accuracy')\n",
    "ax[1].legend(loc='best',shadow=True)\n",
    "ax[1].grid(True)\n",
    "plt.savefig(\"result+\"+str(nb_epoches)+\".png\")\n",
    "plt.show()"
   ]
  }
 ],
 "metadata": {
  "kernelspec": {
   "display_name": "Python 3",
   "language": "python",
   "name": "python3"
  },
  "language_info": {
   "codemirror_mode": {
    "name": "ipython",
    "version": 3
   },
   "file_extension": ".py",
   "mimetype": "text/x-python",
   "name": "python",
   "nbconvert_exporter": "python",
   "pygments_lexer": "ipython3",
   "version": "3.6.7"
  }
 },
 "nbformat": 4,
 "nbformat_minor": 2
}
