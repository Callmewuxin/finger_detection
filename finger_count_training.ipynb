{
 "cells": [
  {
   "cell_type": "code",
   "execution_count": 1,
   "metadata": {},
   "outputs": [
    {
     "name": "stderr",
     "output_type": "stream",
     "text": [
      "C:\\Users\\lenovo\\Anaconda3\\lib\\site-packages\\h5py\\__init__.py:36: FutureWarning: Conversion of the second argument of issubdtype from `float` to `np.floating` is deprecated. In future, it will be treated as `np.float64 == np.dtype(float).type`.\n",
      "  from ._conv import register_converters as _register_converters\n",
      "Using TensorFlow backend.\n"
     ]
    }
   ],
   "source": [
    "import numpy as np\n",
    "import pandas as pd\n",
    "import tensorflow as tf\n",
    "import cv2\n",
    "import os, glob\n",
    "\n",
    "from keras.models import Sequential\n",
    "from keras.layers import Dense, Conv2D, MaxPool2D, Dropout, Flatten"
   ]
  },
  {
   "cell_type": "code",
   "execution_count": 2,
   "metadata": {},
   "outputs": [
    {
     "name": "stdout",
     "output_type": "stream",
     "text": [
      "18000\n",
      "3600\n"
     ]
    }
   ],
   "source": [
    "train_img_list = glob.glob(\"fingers/train/*.png\")\n",
    "test_img_list = glob.glob(\"fingers/test/*.png\")\n",
    "print(len(train_img_list),\n",
    "     len(test_img_list), sep = '\\n')"
   ]
  },
  {
   "cell_type": "code",
   "execution_count": 3,
   "metadata": {},
   "outputs": [],
   "source": [
    "def import_data():\n",
    "    train_img_data = []\n",
    "    test_img_data = []\n",
    "    train_label_data = []\n",
    "    test_label_data = []\n",
    "    \n",
    "    for img in train_img_list:\n",
    "        img_read = cv2.imread(img, cv2.IMREAD_GRAYSCALE)\n",
    "        img_read = cv2.resize(img_read, (128,128))\n",
    "        train_img_data.append(img_read)\n",
    "        train_label_data.append(int(img[-6]))\n",
    "    \n",
    "    for img in test_img_list:\n",
    "        img_read = cv2.imread(img, cv2.IMREAD_GRAYSCALE)\n",
    "        img_read = cv2.resize(img_read, (128,128))\n",
    "        test_img_data.append(img_read)\n",
    "        test_label_data.append(int(img[-6]))\n",
    "        \n",
    "    return np.array(train_img_data), np.array(test_img_data), np.array(train_label_data), np.array(test_label_data)"
   ]
  },
  {
   "cell_type": "code",
   "execution_count": 4,
   "metadata": {},
   "outputs": [],
   "source": [
    "xtrain, xtest, ytrain, ytest = import_data()"
   ]
  },
  {
   "cell_type": "code",
   "execution_count": 5,
   "metadata": {},
   "outputs": [
    {
     "data": {
      "text/plain": [
       "(18000,)"
      ]
     },
     "execution_count": 5,
     "metadata": {},
     "output_type": "execute_result"
    }
   ],
   "source": [
    "ytrain.shape"
   ]
  },
  {
   "cell_type": "code",
   "execution_count": 6,
   "metadata": {},
   "outputs": [
    {
     "name": "stdout",
     "output_type": "stream",
     "text": [
      "(18000, 128, 128, 1) (3600, 128, 128, 1) (18000, 6) (3600, 6)\n"
     ]
    }
   ],
   "source": [
    "from keras.utils import to_categorical \n",
    "xtrain = xtrain.reshape(xtrain.shape[0], 128, 128, 1)\n",
    "xtest = xtest.reshape(xtest.shape[0], 128, 128, 1)\n",
    "\n",
    "ytrain = to_categorical(ytrain, 6)\n",
    "ytest = to_categorical(ytest, 6)\n",
    "print(xtrain.shape, xtest.shape, ytrain.shape, ytest.shape)"
   ]
  },
  {
   "cell_type": "code",
   "execution_count": 7,
   "metadata": {},
   "outputs": [
    {
     "name": "stdout",
     "output_type": "stream",
     "text": [
      "_________________________________________________________________\n",
      "Layer (type)                 Output Shape              Param #   \n",
      "=================================================================\n",
      "conv2d_1 (Conv2D)            (None, 126, 126, 32)      320       \n",
      "_________________________________________________________________\n",
      "max_pooling2d_1 (MaxPooling2 (None, 63, 63, 32)        0         \n",
      "_________________________________________________________________\n",
      "conv2d_2 (Conv2D)            (None, 61, 61, 64)        18496     \n",
      "_________________________________________________________________\n",
      "max_pooling2d_2 (MaxPooling2 (None, 30, 30, 64)        0         \n",
      "_________________________________________________________________\n",
      "conv2d_3 (Conv2D)            (None, 28, 28, 128)       73856     \n",
      "_________________________________________________________________\n",
      "max_pooling2d_3 (MaxPooling2 (None, 14, 14, 128)       0         \n",
      "_________________________________________________________________\n",
      "conv2d_4 (Conv2D)            (None, 12, 12, 256)       295168    \n",
      "_________________________________________________________________\n",
      "max_pooling2d_4 (MaxPooling2 (None, 6, 6, 256)         0         \n",
      "_________________________________________________________________\n",
      "flatten_1 (Flatten)          (None, 9216)              0         \n",
      "_________________________________________________________________\n",
      "dropout_1 (Dropout)          (None, 9216)              0         \n",
      "_________________________________________________________________\n",
      "dense_1 (Dense)              (None, 64)                589888    \n",
      "_________________________________________________________________\n",
      "dropout_2 (Dropout)          (None, 64)                0         \n",
      "_________________________________________________________________\n",
      "dense_2 (Dense)              (None, 6)                 390       \n",
      "=================================================================\n",
      "Total params: 978,118\n",
      "Trainable params: 978,118\n",
      "Non-trainable params: 0\n",
      "_________________________________________________________________\n"
     ]
    }
   ],
   "source": [
    "model = Sequential()\n",
    "\n",
    "model.add(Conv2D(32, (3,3), input_shape = (128, 128, 1), activation = 'relu'))\n",
    "model.add(MaxPool2D((2,2)))\n",
    "\n",
    "model.add(Conv2D(64, (3,3), activation = 'relu'))\n",
    "model.add(MaxPool2D((2,2)))\n",
    "\n",
    "model.add(Conv2D(128, (3,3), activation = 'relu'))\n",
    "model.add(MaxPool2D((2,2)))\n",
    "\n",
    "model.add(Conv2D(256, (3,3), activation = 'relu'))\n",
    "model.add(MaxPool2D((2,2)))\n",
    "\n",
    "model.add(Flatten())\n",
    "\n",
    "model.add(Dropout(0.40))\n",
    "model.add(Dense(64, activation = 'relu'))\n",
    "model.add(Dropout(0.40))\n",
    "model.add(Dense(6, activation = 'softmax'))\n",
    "\n",
    "model.summary()"
   ]
  },
  {
   "cell_type": "code",
   "execution_count": 8,
   "metadata": {},
   "outputs": [
    {
     "name": "stdout",
     "output_type": "stream",
     "text": [
      "Train on 12600 samples, validate on 5400 samples\n",
      "Epoch 1/10\n",
      "12600/12600 [==============================] - 19s 2ms/step - loss: 0.3921 - acc: 0.9108 - val_loss: 0.0046 - val_acc: 0.9983\n",
      "Epoch 2/10\n",
      "12600/12600 [==============================] - 11s 891us/step - loss: 0.0728 - acc: 0.9771 - val_loss: 0.0019 - val_acc: 0.9998\n",
      "Epoch 3/10\n",
      "12600/12600 [==============================] - 11s 889us/step - loss: 0.0641 - acc: 0.9808 - val_loss: 0.0056 - val_acc: 0.9989\n",
      "Epoch 4/10\n",
      "12600/12600 [==============================] - 11s 880us/step - loss: 0.0447 - acc: 0.9863 - val_loss: 0.0020 - val_acc: 0.9993\n",
      "Epoch 5/10\n",
      "12600/12600 [==============================] - 11s 884us/step - loss: 0.0352 - acc: 0.9883 - val_loss: 3.8220e-04 - val_acc: 1.0000\n",
      "Epoch 6/10\n",
      "12600/12600 [==============================] - 11s 886us/step - loss: 0.0272 - acc: 0.9916 - val_loss: 0.0015 - val_acc: 0.9996\n",
      "Epoch 7/10\n",
      "12600/12600 [==============================] - 11s 895us/step - loss: 0.0247 - acc: 0.9921 - val_loss: 6.1316e-05 - val_acc: 1.0000\n",
      "Epoch 8/10\n",
      "12600/12600 [==============================] - 13s 1ms/step - loss: 0.0290 - acc: 0.9928 - val_loss: 0.0012 - val_acc: 0.9998\n",
      "Epoch 9/10\n",
      "12600/12600 [==============================] - 12s 948us/step - loss: 0.0188 - acc: 0.9945 - val_loss: 2.3217e-05 - val_acc: 1.0000\n",
      "Epoch 10/10\n",
      "12600/12600 [==============================] - 12s 917us/step - loss: 0.0398 - acc: 0.9910 - val_loss: 7.8156e-05 - val_acc: 1.0000\n"
     ]
    }
   ],
   "source": [
    "import os\n",
    "\n",
    "\n",
    "\n",
    "#os.environ[\"CUDA_VISIBLE_DEVICES\"] = \"-1\"\n",
    "model.compile('adam', loss = 'categorical_crossentropy', metrics = ['accuracy'])\n",
    "history = model.fit(x = xtrain, y = ytrain, batch_size = 16, epochs = 10, validation_split=0.3)"
   ]
  },
  {
   "cell_type": "code",
   "execution_count": 12,
   "metadata": {},
   "outputs": [
    {
     "name": "stdout",
     "output_type": "stream",
     "text": [
      "3600/3600 [==============================] - 1s 235us/step\n",
      "loss: 8.849797212197548e-05 acc: 100.0%\n"
     ]
    }
   ],
   "source": [
    "loss, acc = model.evaluate(xtest, ytest)\n",
    "print(\"loss: \" + str(loss) , \"acc: \" + str(acc*100) + \"%\")"
   ]
  },
  {
   "cell_type": "code",
   "execution_count": 14,
   "metadata": {},
   "outputs": [
    {
     "data": {
      "image/png": "[encoded data removed]",
      "text/plain": [
       "<Figure size 720x720 with 2 Axes>"
      ]
     },
     "metadata": {},
     "output_type": "display_data"
    }
   ],
   "source": [
    "import matplotlib.pyplot as plt\n",
    "fig,ax = plt.subplots(2,1,figsize=(10,10))\n",
    "ax[0].plot(history.history['loss'], color='r', label='Training Loss')\n",
    "ax[0].plot(history.history['val_loss'], color='g', label='Validation Loss')\n",
    "ax[0].legend(loc='best',shadow=True)\n",
    "ax[0].grid(True)\n",
    "\n",
    "ax[1].plot(history.history['acc'], color='r', label='Training Accuracy')\n",
    "ax[1].plot(history.history['val_acc'], color='g', label='Validation Accuracy')\n",
    "ax[1].legend(loc='best',shadow=True)\n",
    "ax[1].grid(True)\n",
    "plt.savefig(\"result+\"+\"10\"+\".png\")\n",
    "plt.show()"
   ]
  },
  {
   "cell_type": "code",
   "execution_count": 15,
   "metadata": {},
   "outputs": [],
   "source": [
    "model.save(\"finger_detection_model\")"
   ]
  },
  {
   "cell_type": "code",
   "execution_count": null,
   "metadata": {},
   "outputs": [],
   "source": []
  }
 ],
 "metadata": {
  "kernelspec": {
   "display_name": "Python 3",
   "language": "python",
   "name": "python3"
  },
  "language_info": {
   "codemirror_mode": {
    "name": "ipython",
    "version": 3
   },
   "file_extension": ".py",
   "mimetype": "text/x-python",
   "name": "python",
   "nbconvert_exporter": "python",
   "pygments_lexer": "ipython3",
   "version": "3.6.7"
  }
 },
 "nbformat": 4,
 "nbformat_minor": 2
}
